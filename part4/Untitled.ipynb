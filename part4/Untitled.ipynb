{
 "cells": [
  {
   "cell_type": "code",
   "execution_count": 1,
   "metadata": {},
   "outputs": [],
   "source": [
    "const blogs = [\n",
    "  {\n",
    "    _id: \"5a422a851b54a676234d17f7\",\n",
    "    title: \"React patterns\",\n",
    "    author: \"Michael Chan\",\n",
    "    url: \"https://reactpatterns.com/\",\n",
    "    likes: 7,\n",
    "    __v: 0\n",
    "  },\n",
    "  {\n",
    "    _id: \"5a422aa71b54a676234d17f8\",\n",
    "    title: \"Go To Statement Considered Harmful\",\n",
    "    author: \"Edsger W. Dijkstra\",\n",
    "    url: \"http://www.u.arizona.edu/~rubinson/copyright_violations/Go_To_Considered_Harmful.html\",\n",
    "    likes: 5,\n",
    "    __v: 0\n",
    "  },\n",
    "  {\n",
    "    _id: \"5a422b3a1b54a676234d17f9\",\n",
    "    title: \"Canonical string reduction\",\n",
    "    author: \"Edsger W. Dijkstra\",\n",
    "    url: \"http://www.cs.utexas.edu/~EWD/transcriptions/EWD08xx/EWD808.html\",\n",
    "    likes: 12,\n",
    "    __v: 0\n",
    "  },\n",
    "  {\n",
    "    _id: \"5a422b891b54a676234d17fa\",\n",
    "    title: \"First class tests\",\n",
    "    author: \"Robert C. Martin\",\n",
    "    url: \"http://blog.cleancoder.com/uncle-bob/2017/05/05/TestDefinitions.htmll\",\n",
    "    likes: 10,\n",
    "    __v: 0\n",
    "  },\n",
    "  {\n",
    "    _id: \"5a422ba71b54a676234d17fb\",\n",
    "    title: \"TDD harms architecture\",\n",
    "    author: \"Robert C. Martin\",\n",
    "    url: \"http://blog.cleancoder.com/uncle-bob/2017/03/03/TDD-Harms-Architecture.html\",\n",
    "    likes: 0,\n",
    "    __v: 0\n",
    "  },\n",
    "  {\n",
    "    _id: \"5a422bc61b54a676234d17fc\",\n",
    "    title: \"Type wars\",\n",
    "    author: \"Robert C. Martin\",\n",
    "    url: \"http://blog.cleancoder.com/uncle-bob/2016/05/01/TypeWars.html\",\n",
    "    likes: 2,\n",
    "    __v: 0\n",
    "  }  \n",
    "];\n",
    "\n"
   ]
  },
  {
   "cell_type": "code",
   "execution_count": 17,
   "metadata": {},
   "outputs": [],
   "source": [
    "const mostLikesD =(blogs)=>{\n",
    "    let blogLists=[],\n",
    "        authors=[...new Set(blogs.map(blog=>blog.author))];\n",
    "       \n",
    "    for(let name of authors){\n",
    "        console.log(name, blogs.map(blog=>blog.author===name ? blog.likes : 0 ))\n",
    "        let totalLikes=blogs.map(blog=>blog.author===name ? blog.likes : 0 ).reduce((prev,next)=>prev+next, 0);\n",
    "        blogLists.push({author:name,likes:totalLikes})\n",
    "    }\n",
    "    let maxLikes=Math.max(...blogLists.map(item=>item.likes));\n",
    "   return blogs.length===0 ? 'no blog posts available': blogLists.filter(item=> item.likes===maxLikes)[0];\n",
    "}\n"
   ]
  },
  {
   "cell_type": "code",
   "execution_count": 18,
   "metadata": {},
   "outputs": [
    {
     "name": "stdout",
     "output_type": "stream",
     "text": [
      "Michael Chan [ 7, 0, 0, 0, 0, 0 ]\n",
      "Edsger W. Dijkstra [ 0, 5, 12, 0, 0, 0 ]\n",
      "Robert C. Martin [ 0, 0, 0, 10, 0, 2 ]\n"
     ]
    },
    {
     "data": {
      "text/plain": [
       "{ author: 'Edsger W. Dijkstra', likes: 17 }"
      ]
     },
     "execution_count": 18,
     "metadata": {},
     "output_type": "execute_result"
    }
   ],
   "source": [
    "mostLikesD(blogs)"
   ]
  },
  {
   "cell_type": "code",
   "execution_count": null,
   "metadata": {},
   "outputs": [],
   "source": []
  }
 ],
 "metadata": {
  "kernelspec": {
   "display_name": "Javascript (Node.js)",
   "language": "javascript",
   "name": "javascript"
  },
  "language_info": {
   "file_extension": ".js",
   "mimetype": "application/javascript",
   "name": "javascript",
   "version": "10.15.0"
  }
 },
 "nbformat": 4,
 "nbformat_minor": 2
}
